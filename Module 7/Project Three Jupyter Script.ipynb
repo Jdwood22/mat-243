{
 "cells": [
  {
   "cell_type": "markdown",
   "metadata": {},
   "source": [
    "# Project Three: Simple Linear Regression and Multiple Regression\n",
    "\n",
    "This notebook contains step-by-step directions for Project Three. It is very important to run through the steps in order. Some steps depend on the outputs of earlier steps. Once you have completed the steps in this notebook, be sure to write your summary report. \n",
    "\n",
    "\n",
    "You are a data analyst for a basketball team and have access to a large set of historical data that you can use to analyze performance patterns. The coach of the team and your management have requested that you come up with regression models that predict the total number of wins for a team in the regular season based on key performance metrics. Although the data set is the same that you used in the previous projects, the data set used here has been aggregated to study the total number of wins in a regular season based on performance metrics shown in the table below. These regression models will help make key decisions to improve the performance of the team. You will use the Python programming language to perform the statistical analyses and then prepare a report of your findings to present for the team’s management. Since the managers are not data analysts, you will need to interpret your findings and describe their practical implications. \n",
    "\n",
    "There are four important variables in the data set that you will utilize in Project Three. \n",
    "\n",
    "\n",
    "| <div style=\"text-align: left\"> Variable </div>  |   <div style=\"text-align: left\"> What does it represent </div> |\n",
    "| -- | --  |\n",
    "| <div style=\"text-align: left\"> total_wins </div> | <div style=\"text-align: left\"> Total number of wins in a regular season </div> |\n",
    "| <div style=\"text-align: left\"> avg_pts </div> | <div style=\"text-align: left\"> Average points scored in a regular season </div> |\n",
    "| <div style=\"text-align: left\"> avg_elo_n </div> | <div style=\"text-align: left\"> Average relative skill of each team in a regular season</div> |\n",
    "| <div style=\"text-align: left\"> avg_pts_differential </div> | <div style=\"text-align: left\"> Average point differential between the team and their opponents in a regular season </div> |\n",
    "| <div style=\"text-align: left\"> avg_elo_differential </div> | <div style=\"text-align: left\"> Average relative skill differential between the team and their opponent in a regular season </div> |\n",
    "\n",
    "\n",
    "The average relative skill (represented by the variable **avg_elo_n** in the data set) is simply the average of a team's relative skill in a regular season. Relative skill is measured using the ELO rating. This measure is inferred based on the final score of a game, the game location, and the outcome of the game relative to the probability of that outcome. The higher the number, the higher the relative skill of a team. \n",
    "\n",
    "\n",
    "Reminder: It may be beneficial to review the summary report document for Project Three prior to starting this Python script. That will give you an idea of the questions you will need to answer with the outputs of this script.\n",
    "\n",
    "**-------------------------------------------------------------------------------------------------------------------------------------------------------------**"
   ]
  },
  {
   "cell_type": "markdown",
   "metadata": {},
   "source": [
    " "
   ]
  },
  {
   "cell_type": "markdown",
   "metadata": {},
   "source": [
    "## Step 1: Data Preparation\n",
    "This step uploads the data set from a CSV file and transforms the data into a form that will be used to create regression models. The data will be aggregated to calculate the number of wins for teams in a basketball regular season between the years 1995 and 2015. \n",
    "\n",
    "Click the block of code below and hit the **Run** button above."
   ]
  },
  {
   "cell_type": "code",
   "execution_count": 29,
   "metadata": {},
   "outputs": [
    {
     "name": "stdout",
     "output_type": "stream",
     "text": [
      "Imports successful:\n",
      "                Numpy: <module 'numpy' from 'c:\\\\Users\\\\mason\\\\anaconda3\\\\Lib\\\\site-packages\\\\numpy\\\\__init__.py'>\n",
      "                Pandas: <module 'pandas' from 'c:\\\\Users\\\\mason\\\\anaconda3\\\\Lib\\\\site-packages\\\\pandas\\\\__init__.py'>\n",
      "                Scipy Stats: <module 'scipy.stats' from 'c:\\\\Users\\\\mason\\\\anaconda3\\\\Lib\\\\site-packages\\\\scipy\\\\stats\\\\__init__.py'>\n",
      "                Statsmodels: <module 'statsmodels.formula.api' from 'c:\\\\Users\\\\mason\\\\anaconda3\\\\Lib\\\\site-packages\\\\statsmodels\\\\formula\\\\api.py'>\n",
      "                MatPlotLib: <module 'matplotlib.pyplot' from 'c:\\\\Users\\\\mason\\\\anaconda3\\\\Lib\\\\site-packages\\\\matplotlib\\\\pyplot.py'>\n",
      "                IPython: <function display at 0x000002DE4FF532E0> / <class 'IPython.core.display.HTML'>\n",
      "            \n"
     ]
    }
   ],
   "source": [
    "try:\n",
    "    import traceback\n",
    "    import numpy as np\n",
    "    import pandas as pd\n",
    "    import scipy.stats as st\n",
    "    import statsmodels.formula.api as smf # type: ignore\n",
    "    import matplotlib.pyplot as plt\n",
    "    from IPython.display import display, HTML \n",
    "\n",
    "    print(f'''Imports successful:\n",
    "                Numpy: {np}\n",
    "                Pandas: {pd}\n",
    "                Scipy Stats: {st}\n",
    "                Statsmodels: {smf}\n",
    "                MatPlotLib: {plt}\n",
    "                IPython: {display} / {HTML}\n",
    "            ''')\n",
    "\n",
    "except Exception as e:\n",
    "    print(f'Error type: {type(e).__name__}')\n",
    "    print(f'Error: {str(e)}')\n",
    "    traceback.print_exc()\n"
   ]
  },
  {
   "cell_type": "code",
   "execution_count": 30,
   "metadata": {
    "scrolled": true
   },
   "outputs": [
    {
     "data": {
      "text/html": [
       "<table border=\"1\" class=\"dataframe\">\n",
       "  <thead>\n",
       "    <tr style=\"text-align: right;\">\n",
       "      <th></th>\n",
       "      <th>year_id</th>\n",
       "      <th>fran_id</th>\n",
       "      <th>avg_pts</th>\n",
       "      <th>avg_opp_pts</th>\n",
       "      <th>avg_elo_n</th>\n",
       "      <th>avg_opp_elo_n</th>\n",
       "      <th>avg_pts_differential</th>\n",
       "      <th>avg_elo_differential</th>\n",
       "      <th>total_wins</th>\n",
       "    </tr>\n",
       "  </thead>\n",
       "  <tbody>\n",
       "    <tr>\n",
       "      <th>3</th>\n",
       "      <td>1995</td>\n",
       "      <td>Celtics</td>\n",
       "      <td>102.780488</td>\n",
       "      <td>104.658537</td>\n",
       "      <td>1431.307532</td>\n",
       "      <td>1495.936224</td>\n",
       "      <td>-1.878049</td>\n",
       "      <td>-64.628693</td>\n",
       "      <td>35</td>\n",
       "    </tr>\n",
       "    <tr>\n",
       "      <th>30</th>\n",
       "      <td>1996</td>\n",
       "      <td>Celtics</td>\n",
       "      <td>103.597561</td>\n",
       "      <td>107.000000</td>\n",
       "      <td>1416.791091</td>\n",
       "      <td>1487.220822</td>\n",
       "      <td>-3.402439</td>\n",
       "      <td>-70.429730</td>\n",
       "      <td>33</td>\n",
       "    </tr>\n",
       "    <tr>\n",
       "      <th>59</th>\n",
       "      <td>1997</td>\n",
       "      <td>Celtics</td>\n",
       "      <td>100.585366</td>\n",
       "      <td>107.914634</td>\n",
       "      <td>1339.361039</td>\n",
       "      <td>1510.646389</td>\n",
       "      <td>-7.329268</td>\n",
       "      <td>-171.285350</td>\n",
       "      <td>15</td>\n",
       "    </tr>\n",
       "    <tr>\n",
       "      <th>88</th>\n",
       "      <td>1998</td>\n",
       "      <td>Celtics</td>\n",
       "      <td>95.902439</td>\n",
       "      <td>98.524390</td>\n",
       "      <td>1399.552437</td>\n",
       "      <td>1511.565044</td>\n",
       "      <td>-2.621951</td>\n",
       "      <td>-112.012607</td>\n",
       "      <td>36</td>\n",
       "    </tr>\n",
       "    <tr>\n",
       "      <th>117</th>\n",
       "      <td>1999</td>\n",
       "      <td>Celtics</td>\n",
       "      <td>93.000000</td>\n",
       "      <td>94.860000</td>\n",
       "      <td>1434.957570</td>\n",
       "      <td>1501.465758</td>\n",
       "      <td>-1.860000</td>\n",
       "      <td>-66.508188</td>\n",
       "      <td>19</td>\n",
       "    </tr>\n",
       "  </tbody>\n",
       "</table>"
      ],
      "text/plain": [
       "<IPython.core.display.HTML object>"
      ]
     },
     "metadata": {},
     "output_type": "display_data"
    },
    {
     "name": "stdout",
     "output_type": "stream",
     "text": [
      "None\n"
     ]
    }
   ],
   "source": [
    "# dataframe for this project\n",
    "def load_data(filepath, col, selected_team):\n",
    "    try:\n",
    "        # load data & print data for Celtics\n",
    "        df = pd.read_csv(filepath)\n",
    "        df = df[df[col] == selected_team]\n",
    "\n",
    "        return df\n",
    "\n",
    "    except Exception as e:\n",
    "        print(f'Error type: {type(e).__name__}')\n",
    "        print(f'Error:: {str(e)}')\n",
    "        traceback.print_exc()\n",
    "\n",
    "# access returned df from load_data() method and assign to  nba_wins_df\n",
    "nba_wins_df = pd.DataFrame(load_data('nba_wins_data.csv', 'fran_id', 'Celtics'))\n",
    "print(display(HTML(nba_wins_df.head().to_html())))"
   ]
  },
  {
   "cell_type": "markdown",
   "metadata": {},
   "source": [
    " "
   ]
  },
  {
   "cell_type": "markdown",
   "metadata": {},
   "source": [
    "## Step 2: Scatterplot and Correlation for the Total Number of Wins and Average Relative Skill\n",
    "Your coach expects teams to win more games in a regular season if they have a higher average relative skill compared to their opponents. This is because the chances of winning are higher if a team can maintain high average relative skill. Therefore, it is expected that the total number of wins and the average relative skill are correlated. Calculate the Pearson correlation coefficient and its P-value. Make the following edits to the code block below:\n",
    "\n",
    "1. <font color='red'> Replace <strong>??DATAFRAME_NAME??</strong> with the name of the dataframe used in this project. </font> See Step 1 for the name of dataframe used in this project. \n",
    "\n",
    "\n",
    "2. <font color='red'> Replace <strong>??RELATIVE_SKILL??</strong> with the name of the variable for average relative skill.</font> See the table included in the Project Three instructions above to pick the variable name. Enclose this variable in single quotes. For example, if the variable name is **var1** then replace ??RELATIVE_SKILL?? with 'var1'.\n",
    "\n",
    "\n",
    "3. <font color='red'> Replace <strong>??WINS??</strong> with the name of the variable for the total number of wins in a regular season. Remember to enclose the variable in single quotes.</font> See the table included in the Project Three instructions above to pick the variable name. Enclose this variable in single quotes. For example, if the variable name is **var2** then replace ??WINS?? with 'var2'.\n",
    "\n",
    "\n",
    "The code block below will print a scatterplot of the total number of wins against the average relative skill. \n",
    "\n",
    "After you are done with your edits, click the block of code below and hit the **Run** button above."
   ]
  },
  {
   "cell_type": "code",
   "execution_count": 31,
   "metadata": {},
   "outputs": [],
   "source": [
    "# methods to calculate pearsonr() & interpret results\n",
    "# Engineering best practices: D.R.Y.\n",
    "\n",
    "# calculate Pearson correltion coefficient\n",
    "def calc_pearson(df, x_col, y_col):\n",
    "    # return r and two-tailed p-value\n",
    "    return st.pearsonr(df[x_col], df[y_col])\n",
    "\n",
    "\n",
    "# interpret the results of pearsonr() to reject or fail to reject the null hypothesis\n",
    "def interpret_correlation(r, p_val, alpha = 0.05, x_col = '', y_col = ''):\n",
    "    if p_val < alpha:\n",
    "        return (f'Reject the null hypothesis: p-value {p_val:.4f} < significance level {alpha}\\n'\n",
    "                f'There is a significant correlation between {x_col} and {y_col}\\n')\n",
    "    else:\n",
    "        return (f'Fail to reject the null hypothesis: p-value {p_val:.4f} > significance level {alpha}\\n'\n",
    "                f'There is no significant correlation between {x_col} and {y_col}\\n')\n",
    "\n",
    "# Main wrapper method\n",
    "# calculate mtrics and print results for analysis\n",
    "def correlation_metrics(df, x_col, y_col, alpha = 0.05):\n",
    "    try:\n",
    "        # calculate correlation\n",
    "        r, p_val = calc_pearson(df, x_col, y_col)\n",
    "\n",
    "        # print metrics \n",
    "        print(f'Correlation between {x_col} and {y_col}:\\n'\n",
    "              f' Peasron Correlation: {r:.4f}\\n'\n",
    "              f' Two-Tailed p-value:  {p_val:.4f}\\n')\n",
    "        \n",
    "        # interpret results from hypothesis test\n",
    "        interpretation = interpret_correlation(r, p_val, alpha, x_col, y_col)\n",
    "        print(interpretation)\n",
    "\n",
    "    # error handling\n",
    "    except Exception as e:\n",
    "        print(f'Error type: {type(e).__name__}'\n",
    "              f'Error: {str(e)}')\n",
    "        traceback.print_exc()\n",
    "\n",
    "\n",
    "# ---- TODO: make your edits here ----\n",
    "# title = Total number of wins by average relative skill\n",
    "# x_col & xlabel = average relative skill\n",
    "# y_col ylabel = total wins\n",
    "def plot_metrics(df, x_col, y_col, title, xlabel, ylabel):\n",
    "    try:\n",
    "        plt.scatter(df[x_col], df[y_col], label = 'Data Points')\n",
    "        # add trendline\n",
    "        m, b = np.polyfit(df[x_col], df[y_col], 1)\n",
    "        plt.plot(df[x_col], m*df[x_col] + b, color = 'red') # avg_elo_n vs total_wins (x,y)\n",
    "\n",
    "        plt.title(title if title else f'{x_col} vs {y_col}')\n",
    "        plt.xlabel(xlabel if xlabel else f'{x_col}')\n",
    "        plt.ylabel(ylabel if ylabel else f'{y_col}')\n",
    "        plt.grid(True)\n",
    "        plt.tight_layout()\n",
    "        plt.show()\n",
    "\n",
    "    except Exception as e:\n",
    "        print(f'Error type: {type(e).__name__}')\n",
    "        print(f'Error: {str(e)}')\n",
    "        traceback.print_exc()"
   ]
  },
  {
   "cell_type": "code",
   "execution_count": 32,
   "metadata": {
    "scrolled": true
   },
   "outputs": [
    {
     "data": {
      "image/png": "[encoded data removed]",
      "text/plain": [
       "<Figure size 640x480 with 1 Axes>"
      ]
     },
     "metadata": {},
     "output_type": "display_data"
    },
    {
     "name": "stdout",
     "output_type": "stream",
     "text": [
      "Correlation between avg_elo_n and total_wins:\n",
      " Peasron Correlation: 0.8851\n",
      " Two-Tailed p-value:  0.0000\n",
      "\n",
      "Reject the null hypothesis: p-value 0.0000 < significance level 0.01\n",
      "There is a significant correlation between avg_elo_n and total_wins\n",
      "\n"
     ]
    }
   ],
   "source": [
    "# run methods \n",
    "plot_metrics(nba_wins_df, 'avg_elo_n', 'total_wins', 'Total number of wins by Average Relative Skill', 'Average Relative Skill', 'Total Wins')\n",
    "correlation_metrics(nba_wins_df, 'avg_elo_n', 'total_wins', alpha = 0.01)"
   ]
  },
  {
   "cell_type": "markdown",
   "metadata": {},
   "source": [
    " "
   ]
  },
  {
   "cell_type": "markdown",
   "metadata": {},
   "source": [
    "## Step 3: Simple Linear Regression: Predicting the Total Number of Wins using Average Relative Skill\n",
    "\n",
    "The coach of your team suggests a simple linear regression model with the total number of wins as the response variable and the average relative skill as the predictor variable. He expects a team to have more wins in a season if it maintains a high average relative skill during that season. This regression model will help your coach predict how many games your team might win in a regular season. Create this simple linear regression model. Make the following edits to the code block below:\n",
    "\n",
    "1. <font color='red'> Replace <strong>??RESPONSE_VARIABLE??</strong> with the variable name that is being predicted. </font> See the table included in the Project Three instructions above to pick the variable name. Do not enclose this variable in quotes. For example, if the variable name is **var1** then replace ??RESPONSE_VARIABLE?? with var1.\n",
    "\n",
    "\n",
    "2. <font color='red'> Replace <strong>??PREDICTOR_VARIABLE??</strong> with the variable name that is the predictor. </font> See the table included in Project Three instructions above to pick the variable name. Do not enclose this variable in quotes. For example, if the variable name is **var2** then replace ??PREDICTOR_VARIABLE?? with var2.\n",
    "\n",
    "\n",
    "For example, if the variable names are **var1** for the response variable and **var2** for the predictor variable, then the expression in the code block below should be:\n",
    "model = smf.ols('var1 ~ var2', nba_wins_df).fit()\n",
    "\n",
    "After you are done with your edits, click the block of code below and hit the **Run** button above."
   ]
  },
  {
   "cell_type": "code",
   "execution_count": 33,
   "metadata": {
    "scrolled": true
   },
   "outputs": [
    {
     "name": "stdout",
     "output_type": "stream",
     "text": [
      "                            OLS Regression Results                            \n",
      "==============================================================================\n",
      "Dep. Variable:             total_wins   R-squared:                       0.783\n",
      "Model:                            OLS   Adj. R-squared:                  0.772\n",
      "Method:                 Least Squares   F-statistic:                     68.75\n",
      "Date:                Sun, 17 Aug 2025   Prob (F-statistic):           9.81e-08\n",
      "Time:                        10:53:55   Log-Likelihood:                -67.028\n",
      "No. Observations:                  21   AIC:                             138.1\n",
      "Df Residuals:                      19   BIC:                             140.1\n",
      "Df Model:                           1                                         \n",
      "Covariance Type:            nonrobust                                         \n",
      "==============================================================================\n",
      "                 coef    std err          t      P>|t|      [0.025      0.975]\n",
      "------------------------------------------------------------------------------\n",
      "Intercept   -137.5823     21.340     -6.447      0.000    -182.247     -92.918\n",
      "avg_elo_n      0.1183      0.014      8.291      0.000       0.088       0.148\n",
      "==============================================================================\n",
      "Omnibus:                        0.017   Durbin-Watson:                   2.304\n",
      "Prob(Omnibus):                  0.992   Jarque-Bera (JB):                0.177\n",
      "Skew:                          -0.057   Prob(JB):                        0.916\n",
      "Kurtosis:                       2.565   Cond. No.                     2.36e+04\n",
      "==============================================================================\n",
      "\n",
      "Notes:\n",
      "[1] Standard Errors assume that the covariance matrix of the errors is correctly specified.\n",
      "[2] The condition number is large, 2.36e+04. This might indicate that there are\n",
      "strong multicollinearity or other numerical problems.\n"
     ]
    }
   ],
   "source": [
    "# Simple Linear Regression\n",
    "# ---- TODO: make your edits here ---\n",
    "model1 = smf.ols('total_wins ~ avg_elo_n', nba_wins_df).fit()\n",
    "print(model1.summary())"
   ]
  },
  {
   "cell_type": "markdown",
   "metadata": {},
   "source": [
    " "
   ]
  },
  {
   "cell_type": "markdown",
   "metadata": {},
   "source": [
    "## Step 4: Scatterplot and Correlation for the Total Number of Wins and Average Points Scored\n",
    "Your coach expects teams to win more games in a regular season if they score more points on average during the season. This is because the chances of winning are higher if a team maintains high average points scored. Therefore, it is expected that the total number of wins and the average points scored are correlated. Calculate the Pearson correlation coefficient and its P-value. Make the following edits to the code block below:\n",
    "\n",
    "1. <font color='red'> Replace <strong>??DATAFRAME_NAME??</strong> with the name of the dataframe used in this project. </font> See Step 1 for the name of dataframe used in this project. \n",
    "\n",
    "\n",
    "2. <font color='red'> Replace <strong>??POINTS??</strong> with the name of the variable for average points scored in a regular season.</font> See the table included in the Project Three instructions above to pick the variable name. Enclose this variable in single quotes. For example, if the variable name is **var1** then replace ??POINTS?? with 'var1'.\n",
    "\n",
    "\n",
    "3. <font color='red'> Replace <strong>??WINS??</strong> with the name of the variable for the total number of wins in a regular season. Remember to enclose the variable in single quotes.</font> See the table included in the Project Three instructions above to pick the variable name. Enclose this variable in single quotes. For example, if the variable name is **var2** then replace ??WINS?? with 'var2'.\n",
    "\n",
    "\n",
    "The code block below will print a scatterplot of the total number of wins against the average points scored in a regular season. \n",
    "\n",
    "After you are done with your edits, click the block of code below and hit the **Run** button above."
   ]
  },
  {
   "cell_type": "code",
   "execution_count": 34,
   "metadata": {
    "scrolled": false
   },
   "outputs": [
    {
     "data": {
      "image/png": "[encoded data removed]",
      "text/plain": [
       "<Figure size 640x480 with 1 Axes>"
      ]
     },
     "metadata": {},
     "output_type": "display_data"
    },
    {
     "name": "stdout",
     "output_type": "stream",
     "text": [
      "Correlation between avg_pts and total_wins:\n",
      " Peasron Correlation: 0.1854\n",
      " Two-Tailed p-value:  0.4210\n",
      "\n",
      "Fail to reject the null hypothesis: p-value 0.4210 > significance level 0.01\n",
      "There is no significant correlation between avg_pts and total_wins\n",
      "\n"
     ]
    }
   ],
   "source": [
    "# run methods to plot and also calc peasronr()\n",
    "plot_metrics(nba_wins_df, 'avg_elo_n', 'avg_pts', 'Total Number of Wins by Average Points Scored', 'Avg Pts Scored', 'Total Wins')\n",
    "correlation_metrics(nba_wins_df, 'avg_pts', 'total_wins', alpha = 0.01)\n"
   ]
  },
  {
   "cell_type": "markdown",
   "metadata": {},
   "source": [
    " "
   ]
  },
  {
   "cell_type": "markdown",
   "metadata": {},
   "source": [
    "## Step 5: Multiple Regression: Predicting the Total Number of Wins using Average Points Scored and Average Relative Skill\n",
    "\n",
    "Instead of presenting a simple linear regression model to the coach, you can suggest a multiple regression model with the total number of wins as the response variable and the average points scored and the average relative skill as predictor variables. This regression model will help your coach predict how many games your team might win in a regular season based on metrics like the average points scored and average relative skill. This model is more practical because you expect more than one performance metric to determine the total number of wins in a regular season. Create this multiple regression model. Make the following edits to the code block below:\n",
    "\n",
    "1. <font color='red'> Replace <strong>??RESPONSE_VARIABLE??</strong> with the variable name that is being predicted. </font> See the table included in the Project Three instructions above.  Do not enclose this variable in quotes. For example, if the variable name is **var0** then replace ??RESPONSE_VARIABLE?? with var0.\n",
    "\n",
    "\n",
    "2. <font color='red'> Replace <strong>??PREDICTOR_VARIABLE_1??</strong> with the variable name for average points scored. </font> Hint: See the table included in the Project Three instructions above. Do not enclose this variable in quotes. For example, if the variable name is **var1** then replace ??PREDICTOR_VARIABLE_1?? with var1.\n",
    "\n",
    "\n",
    "2. <font color='red'> Replace <strong>??PREDICTOR_VARIABLE_2??</strong> with the variable name for average relative skill. </font> Hint: See the table included in the Project Three instructions above. Do not enclose this variable in quotes. For example, if the variable name is **var2** then replace ??PREDICTOR_VARIABLE_2?? with var2.\n",
    "\n",
    "\n",
    "For example, if the variable names are **var0** for the response variable and **var1**, **var2** for the predictor variables, then the expression in the code block below should be:\n",
    "model = smf.ols('var0 ~ var1 + var2', nba_wins_df).fit()\n",
    "\n",
    "After you are done with your edits, click the block of code below and hit the **Run** button above."
   ]
  },
  {
   "cell_type": "code",
   "execution_count": 35,
   "metadata": {},
   "outputs": [
    {
     "name": "stdout",
     "output_type": "stream",
     "text": [
      "                            OLS Regression Results                            \n",
      "==============================================================================\n",
      "Dep. Variable:             total_wins   R-squared:                       0.824\n",
      "Model:                            OLS   Adj. R-squared:                  0.805\n",
      "Method:                 Least Squares   F-statistic:                     42.22\n",
      "Date:                Sun, 17 Aug 2025   Prob (F-statistic):           1.60e-07\n",
      "Time:                        10:53:56   Log-Likelihood:                -64.836\n",
      "No. Observations:                  21   AIC:                             135.7\n",
      "Df Residuals:                      18   BIC:                             138.8\n",
      "Df Model:                           2                                         \n",
      "Covariance Type:            nonrobust                                         \n",
      "==============================================================================\n",
      "                 coef    std err          t      P>|t|      [0.025      0.975]\n",
      "------------------------------------------------------------------------------\n",
      "Intercept   -213.9499     42.257     -5.063      0.000    -302.729    -125.171\n",
      "avg_pts        0.7737      0.378      2.044      0.056      -0.021       1.569\n",
      "avg_elo_n      0.1188      0.013      8.995      0.000       0.091       0.147\n",
      "==============================================================================\n",
      "Omnibus:                        1.288   Durbin-Watson:                   2.164\n",
      "Prob(Omnibus):                  0.525   Jarque-Bera (JB):                0.940\n",
      "Skew:                           0.215   Prob(JB):                        0.625\n",
      "Kurtosis:                       2.057   Cond. No.                     5.07e+04\n",
      "==============================================================================\n",
      "\n",
      "Notes:\n",
      "[1] Standard Errors assume that the covariance matrix of the errors is correctly specified.\n",
      "[2] The condition number is large, 5.07e+04. This might indicate that there are\n",
      "strong multicollinearity or other numerical problems.\n"
     ]
    }
   ],
   "source": [
    "# Multiple Regression\n",
    "# ---- TODO: make your edits here ---\n",
    "model2 = smf.ols('total_wins ~ avg_pts + avg_elo_n', nba_wins_df).fit()\n",
    "print(model2.summary())"
   ]
  },
  {
   "cell_type": "markdown",
   "metadata": {},
   "source": [
    " "
   ]
  },
  {
   "cell_type": "markdown",
   "metadata": {},
   "source": [
    "## Step 6: Multiple Regression: Predicting the Total Number of Wins using Average Points Scored, Average Relative Skill, Average Points Differential and Average Relative Skill Differential\n",
    "\n",
    "The coach also wants you to consider the average points differential and average relative skill differential as predictor variables in the multiple regression model. Create a multiple regression model with the total number of wins as the response variable, and average points scored, average relative skill, average points differential and average relative skill differential as predictor variables. This regression model will help your coach predict how many games your team might win in a regular season based on metrics like the average score, average relative skill, average points differential and average relative skill differential between the team and their opponents. \n",
    "\n",
    "<font><strong>You are to write this code block yourself.</strong></font> \n",
    "\n",
    "Use Step 5 to help you write this code block. Here is some information that will help you write this code block. Reach out to your instructor if you need help.\n",
    "\n",
    "1. <font color='red'> The dataframe used in this project is called nba_wins_df. </font>\n",
    "2. <font color='red'> The variable **avg_pts** represents average points scored by each team in a regular season. </font>\n",
    "3. <font color='red'> The variable **avg_elo_n** represents average relative skill of each team in a regular season. </font>\n",
    "4. <font color='red'> The variable **avg_pts_differential** represents average points differential between each team and their opponents in a regular season. </font>\n",
    "5. <font color='red'> The variable **avg_elo_differential** represents average relative skill differential between each team and their opponents in a regular season. </font>\n",
    "6. <font color='red'> Print the model summary. </font>\n",
    "\n",
    "Write your code in the code block section below. After you are done, click this block of code and hit the **Run** button above. Reach out to your instructor if you need more help with this step."
   ]
  },
  {
   "cell_type": "code",
   "execution_count": 36,
   "metadata": {},
   "outputs": [
    {
     "name": "stdout",
     "output_type": "stream",
     "text": [
      "                            OLS Regression Results                            \n",
      "==============================================================================\n",
      "Dep. Variable:             total_wins   R-squared:                       0.899\n",
      "Model:                            OLS   Adj. R-squared:                  0.874\n",
      "Method:                 Least Squares   F-statistic:                     35.80\n",
      "Date:                Sun, 17 Aug 2025   Prob (F-statistic):           8.53e-08\n",
      "Time:                        10:53:56   Log-Likelihood:                -58.969\n",
      "No. Observations:                  21   AIC:                             127.9\n",
      "Df Residuals:                      16   BIC:                             133.2\n",
      "Df Model:                           4                                         \n",
      "Covariance Type:            nonrobust                                         \n",
      "========================================================================================\n",
      "                           coef    std err          t      P>|t|      [0.025      0.975]\n",
      "----------------------------------------------------------------------------------------\n",
      "Intercept              215.5047    232.407      0.927      0.368    -277.175     708.184\n",
      "avg_pts                  0.4619      0.317      1.458      0.164      -0.210       1.133\n",
      "avg_elo_n               -0.1482      0.151     -0.979      0.342      -0.469       0.173\n",
      "avg_pts_differential     2.0329      0.677      3.002      0.008       0.597       3.469\n",
      "avg_elo_differential     0.1822      0.148      1.228      0.237      -0.132       0.497\n",
      "==============================================================================\n",
      "Omnibus:                        3.699   Durbin-Watson:                   2.424\n",
      "Prob(Omnibus):                  0.157   Jarque-Bera (JB):                2.065\n",
      "Skew:                          -0.160   Prob(JB):                        0.356\n",
      "Kurtosis:                       4.502   Cond. No.                     3.47e+05\n",
      "==============================================================================\n",
      "\n",
      "Notes:\n",
      "[1] Standard Errors assume that the covariance matrix of the errors is correctly specified.\n",
      "[2] The condition number is large, 3.47e+05. This might indicate that there are\n",
      "strong multicollinearity or other numerical problems.\n"
     ]
    }
   ],
   "source": [
    "# Write your code in this code block section\n",
    "model_3 = smf.ols('total_wins ~ avg_pts + avg_elo_n + avg_pts_differential + avg_elo_differential', nba_wins_df).fit()\n",
    "print(model_3.summary())\n"
   ]
  },
  {
   "cell_type": "markdown",
   "metadata": {},
   "source": [
    " "
   ]
  },
  {
   "cell_type": "markdown",
   "metadata": {},
   "source": [
    "## End of Project Three\n",
    "Download the HTML output and submit it with your summary report for Project Three. The HTML output can be downloaded by clicking **File**, then **Download as**, then **HTML**. Do not include the Python code within your summary report."
   ]
  }
 ],
 "metadata": {
  "kernelspec": {
   "display_name": "base",
   "language": "python",
   "name": "python3"
  },
  "language_info": {
   "codemirror_mode": {
    "name": "ipython",
    "version": 3
   },
   "file_extension": ".py",
   "mimetype": "text/x-python",
   "name": "python",
   "nbconvert_exporter": "python",
   "pygments_lexer": "ipython3",
   "version": "3.12.7"
  }
 },
 "nbformat": 4,
 "nbformat_minor": 2
}
