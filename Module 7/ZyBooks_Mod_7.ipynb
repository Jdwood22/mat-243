{
 "cells": [
  {
   "cell_type": "markdown",
   "id": "1c634998",
   "metadata": {},
   "source": [
    "ZyBooks Module 7"
   ]
  },
  {
   "cell_type": "markdown",
   "id": "40990ee4",
   "metadata": {},
   "source": [
    "7.1 Interpretting Residual Standard Error\n",
    "- Y-i = actual value of the response variable\n",
    "- Y-hat-i = fitted value of Yi\n",
    "- Y-bar = sample mean of the response values\n",
    "\n",
    "\n",
    "SSR\n",
    "- Regression sum of squares (SSR) = summation(n, i = 1) * ('Y-hat-i' - 'Y-bar')^2\n",
    "- SSR represents the explained variation in the dataset\n",
    "\n",
    "SSE\n",
    "- Residual sum of squares (SSE) = summation(n, i = 1) * ('Y-i' - 'Y-hat-i')^2\n",
    "- SSE represents the unexplined variation in the dataset\n",
    "\n",
    "SSTO\n",
    "- Total sum of squares (SSTO) = summation(n, i = 1) * ('Y-i' - 'Y-bar')^2 \n",
    "- SSTO = SSR + SSE; represents the total variation in the dataset\n",
    "\n",
    "<table border=\"1\">\n",
    "<tr>\n",
    "<th>Header 1</th>\n",
    "<th>Header 2</th>\n",
    "</tr>\n",
    "<tr>\n",
    "<td>Row 1 Col 1</td>\n",
    "<td>Row 1 Col 2</td>\n",
    "</tr>\n",
    "<tr>\n",
    "<td>Row 2 Col 1</td>\n",
    "<td>Row 2 Col 2</td>\n",
    "</tr>\n",
    "</table>\n",
    "\n",
    "\n",
    "\n",
    "\n",
    "MSE\n",
    "- = SSE / N - p\n",
    "\n",
    "RMSE = sqrt(MSE) = sqrt( SSE / N - p )\n",
    "- Residual mean squared error (RMSE) = square root of the mean squared residual, which estimates the <b>standard deviation of the residuals</b>.\n",
    "- N = sample size\n",
    "- p = n + 1; the number of regression parameters\n",
    "- (N - p) = residual df\n",
    "\n",
    "Response & Predictor variables\n",
    "- Predictors = feature or model variables = (X)\n",
    "- Response = Target variable = (Y)\n"
   ]
  },
  {
   "cell_type": "markdown",
   "id": "187fa804",
   "metadata": {},
   "source": []
  },
  {
   "cell_type": "markdown",
   "id": "931cc767",
   "metadata": {},
   "source": [
    "7.3 Testing multiple regression parameters\n",
    "\n",
    "Overall F-Test\n",
    "- Determine if the any of the variables in a multiple linear regression model are significant\n",
    "\n",
    "Individual T-Test\n",
    "- Determine whether a single variable is significant"
   ]
  },
  {
   "cell_type": "markdown",
   "id": "8637c55e",
   "metadata": {},
   "source": []
  },
  {
   "cell_type": "markdown",
   "id": "368139f1",
   "metadata": {},
   "source": [
    "7.4 Multiiple Regression Example"
   ]
  },
  {
   "cell_type": "code",
   "execution_count": null,
   "id": "f538b952",
   "metadata": {},
   "outputs": [
    {
     "name": "stdout",
     "output_type": "stream",
     "text": [
      "1126.047188\n"
     ]
    }
   ],
   "source": [
    "sumx = float(930.583556 + 195.463632)\n",
    "print(sumx)"
   ]
  }
 ],
 "metadata": {
  "kernelspec": {
   "display_name": "base",
   "language": "python",
   "name": "python3"
  },
  "language_info": {
   "codemirror_mode": {
    "name": "ipython",
    "version": 3
   },
   "file_extension": ".py",
   "mimetype": "text/x-python",
   "name": "python",
   "nbconvert_exporter": "python",
   "pygments_lexer": "ipython3",
   "version": "3.12.7"
  }
 },
 "nbformat": 4,
 "nbformat_minor": 5
}
