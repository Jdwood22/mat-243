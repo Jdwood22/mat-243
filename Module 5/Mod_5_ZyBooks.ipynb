{
 "cells": [
  {
   "cell_type": "markdown",
   "id": "fd38280c",
   "metadata": {},
   "source": [
    "Module 5 ZyBooks"
   ]
  },
  {
   "cell_type": "code",
   "execution_count": 11,
   "id": "ea0d201e",
   "metadata": {},
   "outputs": [
    {
     "name": "stdout",
     "output_type": "stream",
     "text": [
      "Imports successful!\n",
      "<module 'numpy' from 'c:\\\\Users\\\\mason\\\\anaconda3\\\\Lib\\\\site-packages\\\\numpy\\\\__init__.py'>\n"
     ]
    }
   ],
   "source": [
    "try:\n",
    "    import numpy as np\n",
    "    print(f'Imports successful!\\n{np}')\n",
    "except Exception as e:\n",
    "    print(f'Error: {str(e)}')"
   ]
  },
  {
   "cell_type": "markdown",
   "id": "f61bce21",
   "metadata": {},
   "source": [
    "Simple Linear Regression:\n",
    "- Excpected value of Y: E(Y)\n",
    "- Actual data point: Y\n",
    "- Regression Parameters: beta_0 & beta_1 (beta_0 = y-intercept; beta_1 = rise/run)\n",
    "- Regression error: e = Y - E(Y)\n",
    "- Population simple linear regression function = E(Y) = beta_0 + beta_1(X) \n",
    "- Simple linear regression model = Y = beta_0 + beta_1(X) + e"
   ]
  },
  {
   "cell_type": "markdown",
   "id": "c1971072",
   "metadata": {},
   "source": [
    "5.1 - Introduction to Simple Linear Regression"
   ]
  },
  {
   "cell_type": "code",
   "execution_count": 12,
   "id": "456147ad",
   "metadata": {},
   "outputs": [
    {
     "name": "stdout",
     "output_type": "stream",
     "text": [
      "Simple Linear Regression E(Y): 270000\n",
      "Regression Error: 1000\n",
      "\n",
      "Simple Linear Regression E(Y): 278000\n",
      "Regression Error: -3000\n",
      "\n"
     ]
    }
   ],
   "source": [
    "def expected_y(beta_0, beta_1, X):\n",
    "    try:\n",
    "        # expected value of Y\n",
    "        e_y = (beta_0) + (beta_1 * X)\n",
    "        \n",
    "        # print calculated value and return\n",
    "        print(f'Simple Linear Regression E(Y): {e_y}')\n",
    "        return e_y\n",
    "\n",
    "    # error handling\n",
    "    except Exception as e:\n",
    "        print(f'Error: {str(e)}')\n",
    "\n",
    "\n",
    "def reg_error(y, ey = expected_y(190000, 40, 2000)):\n",
    "    try:\n",
    "        # calculate regression error\n",
    "        r_err = y - ey\n",
    "\n",
    "        # print calculated value and return\n",
    "        print(f'Regression Error: {r_err}\\n')\n",
    "        #return r_err\n",
    "\n",
    "    # error handling\n",
    "    except Exception as e:\n",
    "        print(f'Error: {str(e)}')\n",
    "\n",
    "reg_error(271000)\n",
    "\n",
    "err = expected_y(190000, 40, 2200)\n",
    "reg_error(275000, err)\n"
   ]
  },
  {
   "cell_type": "markdown",
   "id": "e361f0b6",
   "metadata": {},
   "source": [
    "5.2 - SLR Assumptions"
   ]
  },
  {
   "cell_type": "markdown",
   "id": "0c465bb2",
   "metadata": {},
   "source": [
    "5.3 - Correlation and coefficient of determination"
   ]
  },
  {
   "cell_type": "markdown",
   "id": "cb3909c3",
   "metadata": {},
   "source": [
    "5.4 - Interpreting SLR models"
   ]
  },
  {
   "cell_type": "markdown",
   "id": "5bcc156a",
   "metadata": {},
   "source": [
    "5.5 - Testing SLR Parameters"
   ]
  },
  {
   "cell_type": "code",
   "execution_count": null,
   "id": "3cce2e9b",
   "metadata": {},
   "outputs": [],
   "source": []
  }
 ],
 "metadata": {
  "kernelspec": {
   "display_name": "base",
   "language": "python",
   "name": "python3"
  },
  "language_info": {
   "codemirror_mode": {
    "name": "ipython",
    "version": 3
   },
   "file_extension": ".py",
   "mimetype": "text/x-python",
   "name": "python",
   "nbconvert_exporter": "python",
   "pygments_lexer": "ipython3",
   "version": "3.12.7"
  }
 },
 "nbformat": 4,
 "nbformat_minor": 5
}
