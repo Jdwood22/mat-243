{
 "cells": [
  {
   "cell_type": "markdown",
   "metadata": {},
   "source": [
    "# Module Four Discussion: Hypothesis Testing for the Difference in Two Population Proportions\n",
    "\n",
    "This notebook contains the step-by-step directions for your Module Four discussion. It is very important to run through the steps in order. Some steps depend on the outputs of earlier steps. Once you have completed the steps in this notebook, be sure to answer the questions about this activity in the discussion for this module.\n",
    "\n",
    "Reminder: If you have not already reviewed the discussion prompt, please do so before beginning this activity. That will give you an idea of the questions you will need to answer with the outputs of this script.\n"
   ]
  },
  {
   "cell_type": "markdown",
   "metadata": {},
   "source": [
    "## Initial post (due Thursday)\n",
    "_____________________________________________________________________________________________________________________________________________________"
   ]
  },
  {
   "cell_type": "markdown",
   "metadata": {},
   "source": [
    "### Step 1: Generating sample data\n",
    "This block of Python code will generate two samples, both of size 50, that you will use in this discussion. The datasets will be unique to you and therefore your answers will be unique as well. The numpy module in Python allows you to create a data set using a Normal distribution. The data sets will be saved in Python dataframes and will be used in later calculations. \n",
    "\n",
    "Click the block of code below and hit the **Run** button above. "
   ]
  },
  {
   "cell_type": "code",
   "execution_count": 10,
   "metadata": {},
   "outputs": [
    {
     "name": "stdout",
     "output_type": "stream",
     "text": [
      "Imports Successful!\n"
     ]
    }
   ],
   "source": [
    "try:\n",
    "    import pandas as pd\n",
    "    import numpy as np\n",
    "    from statsmodels.stats.proportion import proportions_ztest # type: ignore\n",
    "\n",
    "    print(f'Imports Successful!')\n",
    "\n",
    "except Exception as e:\n",
    "    print(f'Error: {str(e)}')"
   ]
  },
  {
   "cell_type": "code",
   "execution_count": 11,
   "metadata": {},
   "outputs": [
    {
     "name": "stdout",
     "output_type": "stream",
     "text": [
      " diameters_1\n",
      "    2.657642\n",
      "    3.690744\n",
      "    2.733466\n",
      "    2.430791\n",
      "    2.695079\n",
      "\n",
      " diameters_2\n",
      "    2.379532\n",
      "    2.196717\n",
      "    3.370580\n",
      "    2.668101\n",
      "    2.863301\n",
      "\n"
     ]
    }
   ],
   "source": [
    "# define array of 50 diameters: df_1: men = 2.48, std_dev = 0.5; df_2: mean = 2.50 , std_dev = 0.750\n",
    "    # normal distribution\n",
    "dia_sx1 = np.random.normal(2.48, 0.500, 50)\n",
    "dia_sx2 = np.random.normal(2.50, 0.750, 50)\n",
    "\n",
    "# define dataframes using sample arrays\n",
    "dia_df1 = pd.DataFrame(dia_sx1, columns = ['diameters_1'])\n",
    "dia_df2 = pd.DataFrame(dia_sx2, columns = ['diameters_2'])\n",
    "\n",
    "# print dataframe\n",
    "print(f'{dia_df1.head().to_string(index = False)}\\n')\n",
    "print(f'{dia_df2.head().to_string(index = False)}\\n')"
   ]
  },
  {
   "cell_type": "markdown",
   "metadata": {},
   "source": [
    "### Step 2: Performing hypothesis test for the difference in population proportions\n",
    "The z-test for proportions can be used to test for the difference in proportions. The **proportions_ztest** method in statsmodels.stats.proportion submodule runs this test. The input to this method is a list of counts meeting a certain condition (given in the problem statement) and a list of sample sizes for the two samples. \n",
    "\n",
    "***Counts***  &nbsp;&nbsp; Python list that is assigned the number of observations in each sample with diameter values less than 2.20.  \n",
    "***n***  &nbsp;&nbsp;&nbsp;&nbsp;&nbsp;&nbsp;&nbsp;&nbsp;&nbsp;&nbsp;&nbsp;&nbsp; Python list that is assigned the total number of observations in each sample.\n",
    "\n",
    "Click the block of code below and hit the **Run** button above. "
   ]
  },
  {
   "cell_type": "code",
   "execution_count": 12,
   "metadata": {
    "scrolled": true
   },
   "outputs": [
    {
     "name": "stdout",
     "output_type": "stream",
     "text": [
      "test-statistic = 0.23\n",
      "two-tailed p-value = 0.8174\n",
      "\n",
      "Fail to reject the null hypothesis: (p-value) 0.8174 > (significance level) 0.05\n"
     ]
    }
   ],
   "source": [
    "from statsmodels.stats.proportion import proportions_ztest # type: ignore\n",
    "\n",
    "# method to calculate \n",
    "def proportions_test(df1, df2, column1, column2):\n",
    "    try:\n",
    "        # number of observations from both df samples with diameter values less than 2.20. \n",
    "        sx1_obs = (df1[column1] < 2.20).sum()\n",
    "        sx2_obs = (df2[column2] < 2.20).sum()\n",
    "\n",
    "        # list of counts of observations from df1 and df2 < 2.20\n",
    "        counts = [sx1_obs, sx2_obs]\n",
    "\n",
    "        # total number of observations from the first and second sample\n",
    "        n1 = len(df1)\n",
    "        n2 = len(df2)\n",
    "\n",
    "        # list of total counts from n1 and n2\n",
    "        n = [n1, n2]\n",
    "        \n",
    "        # perform the hypothesis test. output is a Python tuple that contains test_statistic and the two-sided P_value.\n",
    "        test_statistic, p_val = proportions_ztest(counts, n)\n",
    "        \n",
    "        # print formatted results\n",
    "        print(f'test-statistic = {test_statistic:.2f}\\ntwo-tailed p-value = {p_val:.4f}\\n')\n",
    "\n",
    "        # reject or accept null hypothesis\n",
    "        sig_lvl = 0.05\n",
    "        try:\n",
    "            if p_val < sig_lvl:\n",
    "                print(f'Reject the null hypothesis: (p-value) {p_val:4f} < (significance level) {sig_lvl}')\n",
    "            else:\n",
    "                print(f'Fail to reject the null hypothesis: (p-value) {p_val:.4f} > (significance level) {sig_lvl}')\n",
    "        except Exception as e:\n",
    "            print(f'Error: {str(e)}')\n",
    "\n",
    "    except Exception as e:\n",
    "        print(f'Error: {str(e)}')\n",
    "\n",
    "# run method\n",
    "proportions_test(dia_df1, dia_df2, 'diameters_1', 'diameters_2') # type: ignore"
   ]
  },
  {
   "cell_type": "markdown",
   "metadata": {},
   "source": [
    "## End of initial post\n",
    "Attach the HTML output to your initial post in the Module Four discussion. The HTML output can be downloaded by clicking **File**, then **Download as**, then **HTML**. Be sure to answer all questions about this activity in the Module Four discussion."
   ]
  },
  {
   "cell_type": "markdown",
   "metadata": {},
   "source": [
    "## Follow-up posts (due Sunday)\n",
    "Return to the Module Four discussion to answer the follow-up questions in your response posts to other students. There are no Python scripts to run for your follow-up posts."
   ]
  }
 ],
 "metadata": {
  "kernelspec": {
   "display_name": "base",
   "language": "python",
   "name": "python3"
  },
  "language_info": {
   "codemirror_mode": {
    "name": "ipython",
    "version": 3
   },
   "file_extension": ".py",
   "mimetype": "text/x-python",
   "name": "python",
   "nbconvert_exporter": "python",
   "pygments_lexer": "ipython3",
   "version": "3.12.7"
  }
 },
 "nbformat": 4,
 "nbformat_minor": 2
}
