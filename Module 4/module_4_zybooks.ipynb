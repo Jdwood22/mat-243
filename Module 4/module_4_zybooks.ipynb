{
 "cells": [
  {
   "cell_type": "markdown",
   "id": "e32c8323",
   "metadata": {},
   "source": [
    "Module 4 ZyBooks Activities\n",
    "\n",
    "4.1 Hypothesis test for the difference between two population means"
   ]
  },
  {
   "cell_type": "code",
   "execution_count": 1,
   "id": "7b21bf60",
   "metadata": {},
   "outputs": [
    {
     "name": "stdout",
     "output_type": "stream",
     "text": [
      "Imports successful\n"
     ]
    }
   ],
   "source": [
    "# imports\n",
    "try:\n",
    "    import numpy as np\n",
    "    from scipy import stats\n",
    "    from statsmodels.stats.proportion import proportions_ztest\n",
    "    \n",
    "    print(f'Imports successful')\n",
    "\n",
    "except Exception as e:\n",
    "    print(f'Imports failed: {str(e)}')\n"
   ]
  },
  {
   "cell_type": "code",
   "execution_count": 2,
   "id": "8207ee62",
   "metadata": {},
   "outputs": [
    {
     "name": "stdout",
     "output_type": "stream",
     "text": [
      "1.232\n"
     ]
    }
   ],
   "source": [
    "# calculate standard error\n",
    "def calc_std_error(std_dev_1: float, std_dev_2: float, sample_size_1: float, sample_size_2: float):\n",
    "    try:\n",
    "       # calculate standard error\n",
    "        SE = np.round(np.sqrt((np.power(std_dev_1, 2) / sample_size_1) + (np.power(std_dev_2, 2) / sample_size_2)), 3)\n",
    "        return SE\n",
    "\n",
    "    except Exception as e:\n",
    "        print(f\"Error: {str(e)}\")\n",
    "\n",
    "\n",
    "# print(calc_std_error(0.5, 0.8, 40, 50))\n",
    "# print(calc_std_error(2, 4, 76, 76))\n",
    "print(calc_std_error(5, 12, 114, 111))\n"
   ]
  },
  {
   "cell_type": "code",
   "execution_count": 3,
   "id": "75981b79",
   "metadata": {},
   "outputs": [
    {
     "name": "stdout",
     "output_type": "stream",
     "text": [
      " z-score: 2.435\n",
      " p_val: 0.0074\n",
      "\n",
      " Reject the null hypothesis: p-val (0.0074) < significance level (0.05)\n",
      "\n",
      "----------------------------------------------------------------------------------------------------\n",
      " t-statistic = 1.587\n",
      " p_val = 0.0562\n",
      "\n",
      " DO NOT Reject the null hypothesis: p_val (0.0562) > significance level (0.05)\n"
     ]
    }
   ],
   "source": [
    "# method to find the z-score\n",
    "def calc_z_score(pop_mean_1, pop_mean_2, SE):\n",
    "    try:\n",
    "        # calculate z-score\n",
    "        z_score = ((pop_mean_1 - pop_mean_2) / SE)\n",
    "        p_val = stats.norm.sf(abs(z_score)) # * 2 for two tailed test\n",
    "\n",
    "        print(f' z-score: {z_score:.3f}\\n p_val: {p_val:.4f}\\n')\n",
    "\n",
    "        sig_lvl = 0.05\n",
    "        try:\n",
    "            if p_val < sig_lvl:\n",
    "                print(f' Reject the null hypothesis: p-val ({p_val:.4f}) < significance level ({sig_lvl})\\n')\n",
    "                print(\"-\" * 100)\n",
    "            else:\n",
    "                print(f' DO NOT Reject the null hypothesis: p-val ({p_val:.4f}) > significance level ({sig_lvl})\\n')\n",
    "                print(\"-\" * 100)\n",
    "        except Exception as e:\n",
    "            print(f'Error: {str(e)}')\n",
    "        \n",
    "\n",
    "    except Exception as e:\n",
    "        print(f'Error: {str(e)}')\n",
    "\n",
    "# run method\n",
    "# calc_z_score(5.35, 4.95, 0.138)\n",
    "# calc_z_score(194, 193, 0.526)\n",
    "calc_z_score(114, 111, 1.232)\n",
    "\n",
    "\n",
    "# need to do some work with better understanding p-values and correctly calculating this value\n",
    "def paired_t_test(mean_diff: float, mean_pop_diff: float, sx_std_dev: float, sx_size: float):\n",
    "    try:\n",
    "        t = ((mean_diff - mean_pop_diff) / (sx_std_dev/ np.sqrt(sx_size)))\n",
    "        p_val = stats.norm.sf(abs(t))\n",
    "        print(f' t-statistic = {t:.3f}\\n p_val = {p_val:.4f}\\n')\n",
    "\n",
    "        sig_lvl = 0.05\n",
    "        try:\n",
    "            if p_val < sig_lvl:\n",
    "                print(f' Reject the null hypothesis: p_val ({p_val:4f}) < significance level ({sig_lvl})')\n",
    "            else:\n",
    "                print(f' DO NOT Reject the null hypothesis: p_val ({p_val:.4f}) > significance level ({sig_lvl})')\n",
    "\n",
    "        except Exception as e:\n",
    "            print(f'Error: {str(e)}')\n",
    "\n",
    "    except Exception as e:\n",
    "        print(f'Error: {str(e)}')\n",
    "\n",
    "\n",
    "paired_t_test(3, 0, 5, 7)"
   ]
  },
  {
   "cell_type": "markdown",
   "id": "8a8f4755",
   "metadata": {},
   "source": []
  },
  {
   "cell_type": "markdown",
   "id": "7e4d3b6a",
   "metadata": {},
   "source": [
    "4.2 Hypothesis test for the difference between two population proportions"
   ]
  },
  {
   "cell_type": "markdown",
   "id": "ff2506fc",
   "metadata": {},
   "source": [
    "p1 = population proportion from sx1 (# in group observed / total # in group)\n",
    "p2 = population proportion from sx2 \"                                      \"\n",
    "\n",
    "counts = [p1, p2]\n",
    "\n",
    "n1 = sx size from p1\n",
    "n2 = sx size from p2\n",
    "\n",
    "n = [n1, n2]\n",
    "\n",
    "p = overall probability of success when two sx are combined (p = (p1 + p2) / ( n1 + n2 ))\n",
    "\n",
    "SE-estimate = p(1-p) * ((1/n1) * (1/n2))\n",
    "\n",
    "z = ( (p1 - p2 - 0) / p(1-p) ((1/n1) * (1/n2)))\n",
    "\n",
    "p-value > alpha: Fail to reject the null hypothesis  \n",
    "p-value < alpha: Reject the null hypothesis\n",
    "\n",
    "\n",
    "proportions_ztest(counts, n, alternative = 'larger') # 'smaller' for left tailed test, 'larger' for right tailed test.\n",
    "\n"
   ]
  },
  {
   "cell_type": "code",
   "execution_count": 4,
   "id": "045c6d50",
   "metadata": {},
   "outputs": [
    {
     "name": "stdout",
     "output_type": "stream",
     "text": [
      " p1: 0.466\n",
      " p2: 0.405\n",
      " p: 0.432\n",
      "\n",
      "Standard Error Estimate: 0.0235\n",
      "z-score (test statistic): 2.607\n",
      "\n",
      " z-stat: 2.6066\n",
      " p-value: 0.005\n",
      "\n",
      "Reject the null hypothesis: p-value 0.005 < significance level 0.01\n",
      "Two-Tailed p-value: 0.009\n",
      "------------------------------------------------------------------------------------------------------------------------\n"
     ]
    }
   ],
   "source": [
    "import numpy as np\n",
    "\n",
    "# calculate p1 value\n",
    "# obs_count = observed count from group \n",
    "# group_total = total number of group\n",
    "def prop_test(obs_count_1, group_total_1, obs_count_2, group_total_2, alpha, alt_version):\n",
    "    try:\n",
    "        # p1 and p2 calculations\n",
    "        p1 = (obs_count_1 / group_total_1)\n",
    "        p2 = (obs_count_2 / group_total_2)\n",
    "        p = ((obs_count_1 + obs_count_2) / (group_total_1 + group_total_2))\n",
    "\n",
    "        # print p1, p2, and p values\n",
    "        print(f' p1: {p1:.3f}\\n p2: {p2:.3f}\\n p: {p:.3f}\\n')\n",
    "\n",
    "        # standard error estimate SE_est\n",
    "        SE_est = np.sqrt(p * (1-p) * ((1/group_total_1) + (1/group_total_2)))\n",
    "        print(f'Standard Error Estimate: {SE_est:.4f}')\n",
    "\n",
    "        # z-score calculation\n",
    "        z_score = ((p1 - p2) / SE_est )\n",
    "        print(f'z-score (test statistic): {z_score:.3f}\\n')\n",
    "\n",
    "        counts = [obs_count_1, obs_count_2]\n",
    "        n = [group_total_1, group_total_2]\n",
    "\n",
    "        # Reject or Fail to Reject null hypothesis\n",
    "        z_stat, p_val = proportions_ztest(count = counts, nobs = n, alternative = alt_version)\n",
    "        two_tailed = p_val * 2\n",
    "        print(f' z-stat: {z_stat:.4f}\\n p-value: {p_val:.3f}\\n')\n",
    "\n",
    "        sig_lvl = alpha\n",
    "        try:\n",
    "            if p_val < sig_lvl:\n",
    "                print(f'Reject the null hypothesis: p-value {p_val:.3f} < significance level {sig_lvl}')\n",
    "            else:\n",
    "                print(f'Fail to reject the null hypothesis: p-value {p_val:.3f} > significance level {sig_lvl}')\n",
    "        except Exception as e:\n",
    "            print(f'Error: {str(e)}')\n",
    "        \n",
    "        print(f'Two-Tailed p-value: {two_tailed:.3f}')\n",
    "        print(\"-\" * 120)\n",
    "\n",
    "    except Exception as e:\n",
    "        print(f'Error: {str(e)}')\n",
    "\n",
    "\n",
    "# prop_test(95, 5000, 125, 5000, 'smaller')\n",
    "prop_test(373, 800, 405, 1000, 0.01, 'larger')"
   ]
  }
 ],
 "metadata": {
  "kernelspec": {
   "display_name": "base",
   "language": "python",
   "name": "python3"
  },
  "language_info": {
   "codemirror_mode": {
    "name": "ipython",
    "version": 3
   },
   "file_extension": ".py",
   "mimetype": "text/x-python",
   "name": "python",
   "nbconvert_exporter": "python",
   "pygments_lexer": "ipython3",
   "version": "3.12.7"
  }
 },
 "nbformat": 4,
 "nbformat_minor": 5
}
