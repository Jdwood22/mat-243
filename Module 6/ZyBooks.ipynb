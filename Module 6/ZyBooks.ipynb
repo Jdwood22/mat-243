{
 "cells": [
  {
   "cell_type": "markdown",
   "id": "a5f79d04",
   "metadata": {},
   "source": [
    "ZyBooks"
   ]
  },
  {
   "cell_type": "code",
   "execution_count": 4,
   "id": "b783fd6b",
   "metadata": {},
   "outputs": [
    {
     "name": "stdout",
     "output_type": "stream",
     "text": [
      "Adjusted R Squared Value: 0.75\n"
     ]
    }
   ],
   "source": [
    "import numpy as np\n",
    "\n",
    "# Adjusted R2: N = sample size; pred_vars = number of predictor variables\n",
    "def r2_adj(r_squared, N, pred_vars):\n",
    "    try:\n",
    "        adj_val = np.round(( 1 - (1- r_squared) * ( (N - 1) / (N - (pred_vars + 1)) ) ), 3)\n",
    "        print(f'Adjusted R Squared Value: {adj_val}')\n",
    "    except Exception as e:\n",
    "        print(f'Error: {str(e)}')\n",
    "\n",
    "r2_adj(0.776, 20, 2)"
   ]
  }
 ],
 "metadata": {
  "kernelspec": {
   "display_name": "base",
   "language": "python",
   "name": "python3"
  },
  "language_info": {
   "codemirror_mode": {
    "name": "ipython",
    "version": 3
   },
   "file_extension": ".py",
   "mimetype": "text/x-python",
   "name": "python",
   "nbconvert_exporter": "python",
   "pygments_lexer": "ipython3",
   "version": "3.12.7"
  }
 },
 "nbformat": 4,
 "nbformat_minor": 5
}
