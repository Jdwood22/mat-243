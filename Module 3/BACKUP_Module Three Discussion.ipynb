{
 "cells": [
  {
   "cell_type": "markdown",
   "metadata": {
    "deletable": false,
    "editable": false
   },
   "source": [
    "# Module Three Discussion: Confidence Intervals and Hypothesis Testing\n",
    "\n",
    "This notebook contains the step-by-step directions for your Module Three discussion. It is very important to run through the steps in order. Some steps depend on the outputs of earlier steps. Once you have completed the steps in this notebook, be sure to answer the questions about this activity in the discussion for this module.\n",
    "\n",
    "Reminder: If you have not already reviewed the discussion prompt, please do so before beginning this activity. That will give you an idea of the questions you will need to answer with the outputs of this script.\n"
   ]
  },
  {
   "cell_type": "markdown",
   "metadata": {
    "deletable": false,
    "editable": false
   },
   "source": [
    "\n",
    "## Initial post (due Thursday)\n",
    "_____________________________________________________________________________________________________________________________________________________"
   ]
  },
  {
   "cell_type": "markdown",
   "metadata": {
    "deletable": false,
    "editable": false
   },
   "source": [
    "### Step 1: Generating sample data\n",
    "This block of Python code will generate a unique sample of size 50 that you will use in this discussion. Note that your sample will be unique and therefore your answers will be unique as well. The numpy module in Python allows you to create a data set using a Normal distribution. Note that the mean and standard deviation were chosen for you. The data set will be saved in a Python dataframe that will be used in later calculations. \n",
    "\n",
    "Click the block of code below and hit the **Run** button above. "
   ]
  },
  {
   "cell_type": "code",
   "execution_count": 1,
   "metadata": {},
   "outputs": [],
   "source": [
    "import pandas as pd\n",
    "import numpy as np\n",
    "import scipy.stats as st"
   ]
  },
  {
   "cell_type": "code",
   "execution_count": 2,
   "metadata": {
    "deletable": false,
    "editable": false
   },
   "outputs": [
    {
     "name": "stdout",
     "output_type": "stream",
     "text": [
      "Diameters DataFrame:\n",
      "    diameters\n",
      "0       2.84\n",
      "1       0.93\n",
      "2       2.49\n",
      "3       2.08\n",
      "4       1.92\n",
      "5       2.54\n",
      "6       2.17\n",
      "7       2.39\n",
      "8       2.02\n",
      "9       3.21\n",
      "\n",
      "Describe:\n",
      "        diameters\n",
      "count  50.000000\n",
      "mean    2.419000\n",
      "std     0.562234\n",
      "min     0.930000\n",
      "25%     2.095000\n",
      "50%     2.335000\n",
      "75%     2.682500\n",
      "max     3.710000\n"
     ]
    }
   ],
   "source": [
    "# create 50 randomly chosen values from a Normal distribution. (arbitrarily using mean=2.48 and standard deviation=0.50). \n",
    "dia = np.random.normal(2.4800, 0.500, 50) # mean = 2.48, std = 0.50, sample size = 50\n",
    "\n",
    "# convert the array into a dataframe with the column name \"diameters\" using pandas library.\n",
    "dia_df = pd.DataFrame(dia, columns = ['diameters']) # use diameters from 50 randomly instantiated\n",
    "dia_df = np.round(dia_df, 2) # round column outpts to 2 decimal places\n",
    "\n",
    "# print the dataframe (note that the index of dataframe starts at 0).\n",
    "print('Diameters DataFrame:\\n', dia_df.head(10)) ## print the head(10) of the df, displaying truncated rows will not display descrobe method for EDA\n",
    "print('\\nDescribe:\\n', dia_df.describe()) "
   ]
  },
  {
   "cell_type": "markdown",
   "metadata": {
    "deletable": false,
    "editable": false
   },
   "source": [
    "### Step 2: Constructing confidence intervals\n",
    "You will assume that the population standard deviation is known and that the sample size is sufficiently large. Then you will use the Normal distribution to construct these confidence intervals. You will use the submodule scipy.stats to construct confidence intervals using your sample data. \n",
    "\n",
    "Click the block of code below and hit the **Run** button above. "
   ]
  },
  {
   "cell_type": "code",
   "execution_count": 3,
   "metadata": {
    "deletable": false,
    "editable": false
   },
   "outputs": [
    {
     "name": "stdout",
     "output_type": "stream",
     "text": [
      "90% confidence interval (unrounded): (2.302691284632333, 2.535308715367668)\n",
      "90% confidence interval rounded): (2.3, 2.54)\n",
      "\n",
      "99% confidence interval (unrounded): (2.2368613632281553, 2.6011386367718456)\n",
      "99% confidence interval rounded): (2.24, 2.6)\n",
      "\n"
     ]
    }
   ],
   "source": [
    "# Python methods that calculate confidence intervals require the sample mean and the standard error as inputs.\n",
    "# calculate the sample mean\n",
    "sx_mean = dia_df['diameters'].mean()\n",
    "\n",
    "# input the population standard deviation, which was given in Step 1.\n",
    "std_dev = 0.5000\n",
    "\n",
    "# calculate standard error = standard deviation / sqrt(n)   where n is the sample size.\n",
    "sx_size = len(dia_df['diameters'])\n",
    "SE = std_dev/np.sqrt(sx_size) # len(dia_df['diameters'])\n",
    "\n",
    "alpha = 0.01 # significance level as defined by the discussion prompt\n",
    "\n",
    "# placed interval calculations inside of a defined method to dynamically calc confidence interval\n",
    "def print_confidence_int(level, mean, se):\n",
    "    conf_int = st.norm.interval(level, loc = mean, scale = se)\n",
    "    rounded = (np.round(conf_int[0], 2), (np.round(conf_int[1], 2))) # lower and upper bounds of tuple\n",
    "    print(f'{int(level * 100)}% confidence interval (unrounded): {conf_int}')\n",
    "    print(f'{int(level * 100)}% confidence interval rounded): {rounded}\\n')\n",
    "\n",
    "# print 90% and 99% confidence levels\n",
    "print_confidence_int(0.90, sx_mean, SE) # 90% confidence level using sx_mean\n",
    "print_confidence_int(0.99, sx_mean, SE) # 99% confidence level using sx_mean"
   ]
  },
  {
   "cell_type": "markdown",
   "metadata": {
    "deletable": false,
    "editable": false
   },
   "source": [
    "### Step 3: Performing hypothesis testing for the population mean\n",
    "Since you were given the population standard deviation in Step 1 and the sample size is sufficiently large, you can use the z-test for population means. The z-test method in statsmodels.stats.weightstats submodule runs the z-test. The input to this method is the sample dataframe and the value under the null hypothesis. The output is the test-statistic and the two-tailed P-value.\n",
    "\n",
    "Click the block of code below and hit the **Run** button above. "
   ]
  },
  {
   "cell_type": "code",
   "execution_count": 4,
   "metadata": {},
   "outputs": [
    {
     "name": "stdout",
     "output_type": "stream",
     "text": [
      "Requirement already satisfied: statsmodels in c:\\users\\mason\\anaconda3\\lib\\site-packages (0.14.2)\n",
      "Requirement already satisfied: numpy>=1.22.3 in c:\\users\\mason\\anaconda3\\lib\\site-packages (from statsmodels) (1.26.4)\n",
      "Requirement already satisfied: scipy!=1.9.2,>=1.8 in c:\\users\\mason\\anaconda3\\lib\\site-packages (from statsmodels) (1.13.1)\n",
      "Requirement already satisfied: pandas!=2.1.0,>=1.4 in c:\\users\\mason\\anaconda3\\lib\\site-packages (from statsmodels) (2.2.2)\n",
      "Requirement already satisfied: patsy>=0.5.6 in c:\\users\\mason\\anaconda3\\lib\\site-packages (from statsmodels) (0.5.6)\n",
      "Requirement already satisfied: packaging>=21.3 in c:\\users\\mason\\appdata\\roaming\\python\\python312\\site-packages (from statsmodels) (24.2)\n",
      "Requirement already satisfied: python-dateutil>=2.8.2 in c:\\users\\mason\\appdata\\roaming\\python\\python312\\site-packages (from pandas!=2.1.0,>=1.4->statsmodels) (2.9.0.post0)\n",
      "Requirement already satisfied: pytz>=2020.1 in c:\\users\\mason\\anaconda3\\lib\\site-packages (from pandas!=2.1.0,>=1.4->statsmodels) (2024.1)\n",
      "Requirement already satisfied: tzdata>=2022.7 in c:\\users\\mason\\anaconda3\\lib\\site-packages (from pandas!=2.1.0,>=1.4->statsmodels) (2023.3)\n",
      "Requirement already satisfied: six in c:\\users\\mason\\appdata\\roaming\\python\\python312\\site-packages (from patsy>=0.5.6->statsmodels) (1.17.0)\n",
      "Note: you may need to restart the kernel to use updated packages.\n"
     ]
    }
   ],
   "source": [
    "pip install statsmodels"
   ]
  },
  {
   "cell_type": "code",
   "execution_count": 5,
   "metadata": {
    "deletable": false,
    "editable": false
   },
   "outputs": [
    {
     "name": "stdout",
     "output_type": "stream",
     "text": [
      "z-test hypothesis test for population mean:\n",
      "Test statistic = 1.50\n",
      "Two-Tailed P Value = 0.1345\n",
      "Fail to reject the null hypothesis: No significant difference 0.1345 > 0.0100\n",
      "\n",
      "z-test hypothesis test for population mean:\n",
      "Test statistic = 0.87\n",
      "Two-Tailed P Value = 0.3855\n",
      "Fail to reject the null hypothesis: No significant difference 0.3855 > 0.0100\n",
      "\n"
     ]
    }
   ],
   "source": [
    "from statsmodels.stats.weightstats import ztest # type: ignore\n",
    "\n",
    "# run z-test hypothesis test for population mean. The value under the null hypothesis is 2.30.\n",
    "def run_z_test(data, hyp_mean):\n",
    "    test_statistic, p_value = ztest(x1 = data, value = hyp_mean)\n",
    "    \n",
    "    print(f'z-test hypothesis test for population mean:')\n",
    "    print(f'Test statistic = {test_statistic:.2f}')\n",
    "    print(f'Two-Tailed P Value = {p_value:.4f}')\n",
    "\n",
    "    if p_value < alpha:\n",
    "        print(f'Reject the null hypothesis: Significant difference {p_value:.4f} < {alpha:.4f}\\n')\n",
    "    else:\n",
    "        print(f'Fail to reject the null hypothesis: No significant difference {p_value:.4f} > {alpha:.4f}\\n')\n",
    "\n",
    "run_z_test(dia_df['diameters'], 2.30) # hypotesized mean of 2.30 per discussion prompt\n",
    "run_z_test(dia_df['diameters'], 2.35) # testing function for hypothesized mean > 2.30 for output "
   ]
  },
  {
   "cell_type": "markdown",
   "metadata": {
    "deletable": false,
    "editable": false
   },
   "source": [
    "## End of initial post\n",
    "Attach the HTML output to your initial post in the Module Three discussion. The HTML output can be downloaded by clicking **File**, then **Download as**, then **HTML**. Be sure to answer all questions about this activity in the Module Three discussion."
   ]
  },
  {
   "cell_type": "markdown",
   "metadata": {
    "deletable": false,
    "editable": false
   },
   "source": [
    "## Follow-up posts (due Sunday)\n",
    "Return to the Module Three discussion to answer the follow-up questions in your response posts to other students. There are no Python scripts to run for your follow-up posts."
   ]
  }
 ],
 "metadata": {
  "kernelspec": {
   "display_name": "base",
   "language": "python",
   "name": "python3"
  },
  "language_info": {
   "codemirror_mode": {
    "name": "ipython",
    "version": 3
   },
   "file_extension": ".py",
   "mimetype": "text/x-python",
   "name": "python",
   "nbconvert_exporter": "python",
   "pygments_lexer": "ipython3",
   "version": "3.12.7"
  }
 },
 "nbformat": 4,
 "nbformat_minor": 2
}
