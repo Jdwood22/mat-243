{
 "cells": [
  {
   "cell_type": "markdown",
   "id": "ae2b2fea",
   "metadata": {},
   "source": [
    "z-test proportion calculator"
   ]
  },
  {
   "cell_type": "code",
   "execution_count": 6,
   "id": "74883a98",
   "metadata": {},
   "outputs": [
    {
     "name": "stdout",
     "output_type": "stream",
     "text": [
      "Exception Error: could not convert string to float: ''\n"
     ]
    }
   ],
   "source": [
    "import scipy.stats as st\n",
    "import numpy as np\n",
    "\n",
    "def prop_z_test():\n",
    "    try:\n",
    "            p0 = float(input(\"Enter claimed proportion (as a decimal: e.g., 0.79):\"))     # claimed proportion\n",
    "            n = int(input(\"Enter number of successes (e.g., satisfied customers): \"))     # number of success from population: population mean\n",
    "            x = int(input(\"Enter sample size: \"))                                         # number of satisfied customers: total sample size\n",
    "            alpha = float(input(\"Enter significance level alpha (e.g., 0.05 or 0.01): \")) # sample proportion: significance level\n",
    "\n",
    "            # calculations\n",
    "            phat = x / n                        # sample proportion\n",
    "            SE = np.sqrt(p0 * (1 - p0) / n)     # standard error\n",
    "            z = (phat - p0) / SE                # z-value calculation\n",
    "            p_val = 2 * st.norm.sf(abs(z))      # two-tailed test using survival fuunction\n",
    "\n",
    "            print(f'\\nResults: ')\n",
    "            print(f'Sample Proportion (p): {phat:.4f}')\n",
    "            print(f'Test statistic (z): {z:.4f}')\n",
    "            print(f'P-Value: {p_val:.4f}')\n",
    "\n",
    "            # decision\n",
    "            if p_val < alpha:\n",
    "                  print(f'Reject the null hypothesis: Significant difference')\n",
    "            else:\n",
    "                  print(f'Fail to reject the null hypothesis: No significnt difference')\n",
    "\n",
    "    except Exception as e:\n",
    "          print(f'Exception Error: {str(e)}')\n",
    "\n",
    "prop_z_test()\n",
    "\n"
   ]
  }
 ],
 "metadata": {
  "kernelspec": {
   "display_name": "base",
   "language": "python",
   "name": "python3"
  },
  "language_info": {
   "codemirror_mode": {
    "name": "ipython",
    "version": 3
   },
   "file_extension": ".py",
   "mimetype": "text/x-python",
   "name": "python",
   "nbconvert_exporter": "python",
   "pygments_lexer": "ipython3",
   "version": "3.12.7"
  }
 },
 "nbformat": 4,
 "nbformat_minor": 5
}
