{
 "cells": [
  {
   "cell_type": "markdown",
   "id": "4fe78b28",
   "metadata": {},
   "source": [
    "ZyBooks Module 8.1 \n",
    "- One-way analysis of variance (one-way ANOVA)"
   ]
  },
  {
   "cell_type": "code",
   "execution_count": 7,
   "id": "2373a71d",
   "metadata": {},
   "outputs": [
    {
     "name": "stdout",
     "output_type": "stream",
     "text": [
      "Imports Successful\n",
      " Scipy: <module 'scipy.stats' from 'c:\\\\Users\\\\mason\\\\anaconda3\\\\Lib\\\\site-packages\\\\scipy\\\\stats\\\\__init__.py'>\n",
      " Pandas: <module 'pandas' from 'c:\\\\Users\\\\mason\\\\anaconda3\\\\Lib\\\\site-packages\\\\pandas\\\\__init__.py'>\n",
      " Numpy: <module 'numpy' from 'c:\\\\Users\\\\mason\\\\anaconda3\\\\Lib\\\\site-packages\\\\numpy\\\\__init__.py'>\n",
      " Seaborn: <module 'seaborn' from 'c:\\\\Users\\\\mason\\\\anaconda3\\\\Lib\\\\site-packages\\\\seaborn\\\\__init__.py'>\n",
      " Matplotlib: <module 'matplotlib.pyplot' from 'c:\\\\Users\\\\mason\\\\anaconda3\\\\Lib\\\\site-packages\\\\matplotlib\\\\pyplot.py'>\n",
      " Statsmodels: <module 'statsmodels.api' from 'c:\\\\Users\\\\mason\\\\anaconda3\\\\Lib\\\\site-packages\\\\statsmodels\\\\api.py'> & <bound method Model.from_formula of <class 'statsmodels.regression.linear_model.OLS'>>\n",
      " IPython: <class 'IPython.core.display.HTML'>\n"
     ]
    }
   ],
   "source": [
    "# import statements\n",
    "try:\n",
    "    import traceback\n",
    "    import scipy.stats as st \n",
    "    from scipy.stats import chi2_contingency\n",
    "    import pandas as pd\n",
    "    import numpy as np\n",
    "    import seaborn as sns\n",
    "    import matplotlib.pyplot as plt\n",
    "    import statsmodels.api as smf # type: ignore\n",
    "\n",
    "    from statsmodels.formula.api import ols # type: ignore\n",
    "    from IPython.display import HTML\n",
    "\n",
    "    # imports successful print statement\n",
    "    print(f'Imports Successful\\n'\n",
    "          f' Scipy: {st}\\n'\n",
    "          f' Pandas: {pd}\\n'\n",
    "          f' Numpy: {np}\\n'\n",
    "          f' Seaborn: {sns}\\n'\n",
    "          f' Matplotlib: {plt}\\n'\n",
    "          f' Statsmodels: {smf} & {ols}\\n'\n",
    "          f' IPython: {HTML}')\n",
    "\n",
    "except Exception as e:\n",
    "    print(f'Error type: {type(e).__name__}')\n",
    "    print(f'Error: {str(e)}')\n",
    "    traceback.print_exc()"
   ]
  },
  {
   "cell_type": "code",
   "execution_count": 2,
   "id": "72a86c0b",
   "metadata": {},
   "outputs": [
    {
     "data": {
      "text/html": [
       "<table border=\"1\" class=\"dataframe\">\n",
       "  <thead>\n",
       "    <tr style=\"text-align: right;\">\n",
       "      <th></th>\n",
       "      <th>exam1</th>\n",
       "      <th>exam2</th>\n",
       "      <th>exam3</th>\n",
       "      <th>exam4</th>\n",
       "    </tr>\n",
       "  </thead>\n",
       "  <tbody>\n",
       "    <tr>\n",
       "      <th>0</th>\n",
       "      <td>96</td>\n",
       "      <td>82</td>\n",
       "      <td>95</td>\n",
       "      <td>50</td>\n",
       "    </tr>\n",
       "    <tr>\n",
       "      <th>1</th>\n",
       "      <td>61</td>\n",
       "      <td>30</td>\n",
       "      <td>47</td>\n",
       "      <td>45</td>\n",
       "    </tr>\n",
       "    <tr>\n",
       "      <th>2</th>\n",
       "      <td>98</td>\n",
       "      <td>58</td>\n",
       "      <td>60</td>\n",
       "      <td>65</td>\n",
       "    </tr>\n",
       "    <tr>\n",
       "      <th>3</th>\n",
       "      <td>32</td>\n",
       "      <td>62</td>\n",
       "      <td>78</td>\n",
       "      <td>48</td>\n",
       "    </tr>\n",
       "    <tr>\n",
       "      <th>4</th>\n",
       "      <td>50</td>\n",
       "      <td>39</td>\n",
       "      <td>51</td>\n",
       "      <td>41</td>\n",
       "    </tr>\n",
       "    <tr>\n",
       "      <th>5</th>\n",
       "      <td>46</td>\n",
       "      <td>87</td>\n",
       "      <td>57</td>\n",
       "      <td>53</td>\n",
       "    </tr>\n",
       "    <tr>\n",
       "      <th>6</th>\n",
       "      <td>48</td>\n",
       "      <td>75</td>\n",
       "      <td>33</td>\n",
       "      <td>53</td>\n",
       "    </tr>\n",
       "    <tr>\n",
       "      <th>7</th>\n",
       "      <td>99</td>\n",
       "      <td>26</td>\n",
       "      <td>79</td>\n",
       "      <td>65</td>\n",
       "    </tr>\n",
       "    <tr>\n",
       "      <th>8</th>\n",
       "      <td>20</td>\n",
       "      <td>72</td>\n",
       "      <td>71</td>\n",
       "      <td>48</td>\n",
       "    </tr>\n",
       "    <tr>\n",
       "      <th>9</th>\n",
       "      <td>87</td>\n",
       "      <td>49</td>\n",
       "      <td>38</td>\n",
       "      <td>69</td>\n",
       "    </tr>\n",
       "    <tr>\n",
       "      <th>10</th>\n",
       "      <td>40</td>\n",
       "      <td>100</td>\n",
       "      <td>96</td>\n",
       "      <td>62</td>\n",
       "    </tr>\n",
       "    <tr>\n",
       "      <th>11</th>\n",
       "      <td>42</td>\n",
       "      <td>24</td>\n",
       "      <td>77</td>\n",
       "      <td>41</td>\n",
       "    </tr>\n",
       "    <tr>\n",
       "      <th>12</th>\n",
       "      <td>50</td>\n",
       "      <td>31</td>\n",
       "      <td>94</td>\n",
       "      <td>99</td>\n",
       "    </tr>\n",
       "    <tr>\n",
       "      <th>13</th>\n",
       "      <td>61</td>\n",
       "      <td>42</td>\n",
       "      <td>60</td>\n",
       "      <td>51</td>\n",
       "    </tr>\n",
       "    <tr>\n",
       "      <th>14</th>\n",
       "      <td>24</td>\n",
       "      <td>46</td>\n",
       "      <td>65</td>\n",
       "      <td>25</td>\n",
       "    </tr>\n",
       "  </tbody>\n",
       "</table>"
      ],
      "text/plain": [
       "<IPython.core.display.HTML object>"
      ]
     },
     "metadata": {},
     "output_type": "display_data"
    },
    {
     "name": "stdout",
     "output_type": "stream",
     "text": [
      "None\n"
     ]
    }
   ],
   "source": [
    "# generate dummy data (csv download from module not available)\n",
    "\n",
    "# declare variables \n",
    "num_exams = 4\n",
    "num_students = 50\n",
    "score_min = 20\n",
    "score_max = 100\n",
    "\n",
    "# declare variable to generate dummy data\n",
    "exam_scores = np.random.randint(score_min, score_max + 1, size = (num_students, num_exams))\n",
    "\n",
    "# column labels\n",
    "exam_labels = [f'exam{i + 1}' for i in range(num_exams)]\n",
    "\n",
    "df = pd.DataFrame(exam_scores, columns = exam_labels)\n",
    "print(display(HTML(df.head(15).to_html(index = True))))"
   ]
  },
  {
   "cell_type": "code",
   "execution_count": 3,
   "id": "05a610cc",
   "metadata": {},
   "outputs": [
    {
     "name": "stdout",
     "output_type": "stream",
     "text": [
      "F_onewayResult(statistic=1.161440138930034, pvalue=0.3256596121332867)\n"
     ]
    }
   ],
   "source": [
    "# stats for each exam\n",
    "exam1_score = df['exam1']\n",
    "exam2_score = df['exam2']\n",
    "exam3_score = df['exam3']\n",
    "exam4_score = df['exam4']\n",
    "\n",
    "print(st.f_oneway(exam1_score, exam2_score, exam3_score, exam4_score))"
   ]
  },
  {
   "cell_type": "code",
   "execution_count": null,
   "id": "74e679b3",
   "metadata": {},
   "outputs": [
    {
     "data": {
      "image/png": "[encoded data removed]",
      "text/plain": [
       "<Figure size 640x480 with 1 Axes>"
      ]
     },
     "metadata": {},
     "output_type": "display_data"
    }
   ],
   "source": [
    "def plot_data(data, title = '', xlabel = '', ylabel = ''):\n",
    "    sns.boxplot(data = data)\n",
    "    plt.title(title if title else f'Exam Scores')\n",
    "    plt.xlabel(xlabel if xlabel else f'Exam')\n",
    "    plt.ylabel(ylabel if ylabel else f'Scores')\n",
    "    plt.tight_layout()\n",
    "    plt.grid(True)\n",
    "    plt.show()\n",
    "\n",
    "plot_data(df)"
   ]
  },
  {
   "cell_type": "markdown",
   "id": "198b4fa9",
   "metadata": {},
   "source": [
    "8.2 Chi-Square Tests"
   ]
  },
  {
   "cell_type": "code",
   "execution_count": 11,
   "id": "a960488c",
   "metadata": {},
   "outputs": [
    {
     "name": "stdout",
     "output_type": "stream",
     "text": [
      " Chi-Squared contigency test:\n",
      "            chi:     86.48\n",
      "            p-value: 0.0000\n",
      "            dof:     1\n",
      "        \n"
     ]
    }
   ],
   "source": [
    "# 2x2 table\n",
    "gilbert_df = np.array([[40, 217], [34, 1350]])\n",
    "chi, p_val, dof, ex= chi2_contingency(gilbert_df, correction = False)\n",
    "\n",
    "# p < alpha: reject null hyp; support alt hyp\n",
    "# p >= alpha: fail to reject null hyp; do not support alt hyp\n",
    "\n",
    "print(f''' Chi-Squared contigency test:\n",
    "            chi:     {chi:.2f}\n",
    "            p-value: {p_val:.4f}\n",
    "            dof:     {dof}\n",
    "        ''')"
   ]
  },
  {
   "cell_type": "markdown",
   "id": "8993665d",
   "metadata": {},
   "source": [
    "8.3 Chi-Squared Tests for Homogeneity and Independence\n",
    "- Null hyp: Two variables are independent\n",
    "- Alt Hyp: Two variables are not independent\n",
    "- X^2 = Summation( (observed count - expected count) ^2 / (expected count) )"
   ]
  },
  {
   "cell_type": "code",
   "execution_count": 13,
   "id": "5d8b04b7",
   "metadata": {},
   "outputs": [
    {
     "name": "stdout",
     "output_type": "stream",
     "text": [
      " Chi-Squared contingency test:\n",
      "            chi:     53.88\n",
      "            p-value: 0.0000\n",
      "            dof:     2\n",
      "        \n"
     ]
    }
   ],
   "source": [
    "# df from module example\n",
    "parole_df = np.array([[405, 1422], [240, 470], [151, 275]])\n",
    "chi, p_val, dof, ex = chi2_contingency(parole_df, correction = False)\n",
    "\n",
    "# p_val < alpha: reject the null hyp; support alt hyp\n",
    "# p_val > alpha: fail to reject null hyp; do not support alt hyp\n",
    "\n",
    "print(f''' Chi-Squared contingency test:\n",
    "            chi:     {chi:.2f}\n",
    "            p-value: {p_val:.4f}\n",
    "            dof:     {dof}\n",
    "        ''')"
   ]
  },
  {
   "cell_type": "markdown",
   "id": "5279ae3c",
   "metadata": {},
   "source": [
    "Homogeniety\n",
    "- alt hyp: At least one of the probability statements is false\n",
    "\n",
    "Accept or Reject hyp:\n",
    "- p < null hyp: reject the null hyp; support the alt hyp\n",
    "- p >= null hyp: fail to reject the null hyp; do not support the alt hyp"
   ]
  },
  {
   "cell_type": "code",
   "execution_count": null,
   "id": "94d4d4d7",
   "metadata": {},
   "outputs": [],
   "source": []
  }
 ],
 "metadata": {
  "kernelspec": {
   "display_name": "base",
   "language": "python",
   "name": "python3"
  },
  "language_info": {
   "codemirror_mode": {
    "name": "ipython",
    "version": 3
   },
   "file_extension": ".py",
   "mimetype": "text/x-python",
   "name": "python",
   "nbconvert_exporter": "python",
   "pygments_lexer": "ipython3",
   "version": "3.12.7"
  }
 },
 "nbformat": 4,
 "nbformat_minor": 5
}
